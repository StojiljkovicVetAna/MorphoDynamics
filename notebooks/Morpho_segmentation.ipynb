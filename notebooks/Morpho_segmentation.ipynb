{
 "cells": [
  {
   "cell_type": "code",
   "execution_count": 1,
   "metadata": {},
   "outputs": [],
   "source": [
    "%load_ext autoreload\n",
    "%autoreload 2\n",
    "#import warnings\n",
    "#warnings.filterwarnings(\"ignore\")\n",
    "\n",
    "\n",
    "%matplotlib widget\n",
    "\n",
    "from morphodynamics.morpho_segmentation import InteractSeg\n",
    "import ipywidgets as ipw"
   ]
  },
  {
   "cell_type": "markdown",
   "metadata": {},
   "source": [
    "## Define a default folder\n",
    "You can define a path to a folder containing your data to avoid repeatedly browsing to it."
   ]
  },
  {
   "cell_type": "code",
   "execution_count": 2,
   "metadata": {},
   "outputs": [],
   "source": [
    "#default_path = None\n",
    "#default_path = '/Volumes/Samsung_T5/Kobus/'\n",
    "default_path = r'C:\\Work\\UniBE2\\Data\\\\'"
   ]
  },
  {
   "cell_type": "code",
   "execution_count": 3,
   "metadata": {
    "scrolled": false
   },
   "outputs": [
    {
     "data": {
      "application/vnd.jupyter.widget-view+json": {
       "model_id": "31cec4a1e5424e9cb89062e1056a51b3",
       "version_major": 2,
       "version_minor": 0
      },
      "text/plain": [
       "VBox(children=(HTML(value='<font size=\"5\"><b>Choose main folder<b></font>'), HTML(value='<font size=\"2\"><b>Thi…"
      ]
     },
     "metadata": {},
     "output_type": "display_data"
    },
    {
     "name": "stdout",
     "output_type": "stream",
     "text": [
      "load_frame_morpho: 0\n",
      "path: C:\\Work\\UniBE2\\Data\\PROBLEM_DATA\\H1R_rGBD_01_forpres\\w46TIRFFRETacceptor_corr\\H1R_rGBD_02_w46TIRFFRETacceptor_s1_t1.tif\n",
      "0\n",
      "load_frame_morpho: 0\n",
      "path: C:\\Work\\UniBE2\\Data\\PROBLEM_DATA\\H1R_rGBD_01_forpres\\w46TIRFFRETacceptor_corr\\H1R_rGBD_02_w46TIRFFRETacceptor_s1_t1.tif\n",
      "(353.33401039021913, 346.57736025936487)\n",
      "1\n",
      "load_frame_morpho: 1\n",
      "path: C:\\Work\\UniBE2\\Data\\PROBLEM_DATA\\H1R_rGBD_01_forpres\\w46TIRFFRETacceptor_corr\\H1R_rGBD_02_w46TIRFFRETacceptor_s1_t2.tif\n",
      "(353.20752334302773, 346.85416347772843)\n",
      "2\n",
      "load_frame_morpho: 2\n",
      "path: C:\\Work\\UniBE2\\Data\\PROBLEM_DATA\\H1R_rGBD_01_forpres\\w46TIRFFRETacceptor_corr\\H1R_rGBD_02_w46TIRFFRETacceptor_s1_t3.tif\n",
      "(352.59586401617764, 346.734098973635)\n",
      "3\n",
      "load_frame_morpho: 3\n",
      "path: C:\\Work\\UniBE2\\Data\\PROBLEM_DATA\\H1R_rGBD_01_forpres\\w46TIRFFRETacceptor_corr\\H1R_rGBD_02_w46TIRFFRETacceptor_s1_t4.tif\n",
      "(351.68162083936323, 346.9295071978064)\n"
     ]
    }
   ],
   "source": [
    "# create interface\n",
    "interactseg = InteractSeg(expdir=default_path)\n",
    "interactseg.ui()\n",
    "interactseg.interface"
   ]
  },
  {
   "cell_type": "code",
   "execution_count": 8,
   "metadata": {},
   "outputs": [
    {
     "data": {
      "application/vnd.jupyter.widget-view+json": {
       "model_id": "d2b1209b150243b4bed37f29bba646d9",
       "version_major": 2,
       "version_minor": 0
      },
      "text/plain": [
       "Output()"
      ]
     },
     "metadata": {},
     "output_type": "display_data"
    }
   ],
   "source": [
    "interactseg.out_debug"
   ]
  },
  {
   "cell_type": "code",
   "execution_count": null,
   "metadata": {},
   "outputs": [],
   "source": []
  }
 ],
 "metadata": {
  "kernelspec": {
   "display_name": "Python 3",
   "language": "python",
   "name": "python3"
  },
  "language_info": {
   "codemirror_mode": {
    "name": "ipython",
    "version": 3
   },
   "file_extension": ".py",
   "mimetype": "text/x-python",
   "name": "python",
   "nbconvert_exporter": "python",
   "pygments_lexer": "ipython3",
   "version": "3.7.8"
  },
  "toc": {
   "base_numbering": 1,
   "nav_menu": {},
   "number_sections": false,
   "sideBar": true,
   "skip_h1_title": false,
   "title_cell": "Table of Contents",
   "title_sidebar": "Contents",
   "toc_cell": false,
   "toc_position": {},
   "toc_section_display": true,
   "toc_window_display": true
  },
  "varInspector": {
   "cols": {
    "lenName": 16,
    "lenType": 16,
    "lenVar": 40
   },
   "kernels_config": {
    "python": {
     "delete_cmd_postfix": "",
     "delete_cmd_prefix": "del ",
     "library": "var_list.py",
     "varRefreshCmd": "print(var_dic_list())"
    },
    "r": {
     "delete_cmd_postfix": ") ",
     "delete_cmd_prefix": "rm(",
     "library": "var_list.r",
     "varRefreshCmd": "cat(var_dic_list()) "
    }
   },
   "types_to_exclude": [
    "module",
    "function",
    "builtin_function_or_method",
    "instance",
    "_Feature"
   ],
   "window_display": false
  }
 },
 "nbformat": 4,
 "nbformat_minor": 4
}
