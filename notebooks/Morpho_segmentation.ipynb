{
 "cells": [
  {
   "cell_type": "code",
   "execution_count": 1,
   "metadata": {},
   "outputs": [],
   "source": [
    "%load_ext autoreload\n",
    "%autoreload 2\n",
    "%matplotlib widget"
   ]
  },
  {
   "cell_type": "code",
   "execution_count": 3,
   "metadata": {},
   "outputs": [],
   "source": [
    "#import warnings\n",
    "#warnings.filterwarnings(\"ignore\")"
   ]
  },
  {
   "cell_type": "code",
   "execution_count": 4,
   "metadata": {},
   "outputs": [],
   "source": [
    "from morpho_segmentation import InteractSeg\n",
    "import ipywidgets as ipw"
   ]
  },
  {
   "cell_type": "code",
   "execution_count": 5,
   "metadata": {},
   "outputs": [],
   "source": [
    "#default_path = None\n",
    "default_path = '/Volumes/Samsung_T5/Kobus/For_GuillaumeWitz/Example_Data/FRET_sensors + actin/\\\n",
    "Histamine/Expt2/'\n",
    "#default_path = '/Users/gw18g940/OneDrive - Universitaet Bern/MIC_projects/Kobus'"
   ]
  },
  {
   "cell_type": "code",
   "execution_count": 6,
   "metadata": {},
   "outputs": [
    {
     "data": {
      "application/vnd.jupyter.widget-view+json": {
       "model_id": "9c2942fc4a384b3f858e477de7057628",
       "version_major": 2,
       "version_minor": 0
      },
      "text/plain": [
       "VBox(children=(HTML(value='<font size=\"5\"><b>Choose main folder<b></font>'), SelectMultiple(layout=Layout(widt…"
      ]
     },
     "metadata": {},
     "output_type": "display_data"
    }
   ],
   "source": [
    "interactseg = InteractSeg(expdir=default_path)\n",
    "\n",
    "ipw.VBox([\n",
    "    ipw.HTML('<font size=\"5\"><b>Choose main folder<b></font>'),\n",
    "    interactseg.main_folder.file_list,\n",
    "    interactseg.load_button,\n",
    "    #ipw.HTML('<br>'),\n",
    "    ipw.HTML('<br><font size=\"5\"><b>Chose segmentation and signal channels (folders or tifs)<b></font>'),\n",
    "    ipw.HBox([\n",
    "        ipw.VBox([ipw.HTML('<font size=\"2\"><b>Segmentation<b></font>'),interactseg.segm_folders]),\n",
    "        ipw.VBox([ipw.HTML('<font size=\"2\"><b>Signal<b></font>'),interactseg.channels_folders])\n",
    "    ]),\n",
    "    interactseg.init_button,\n",
    "    \n",
    "    ipw.HTML('<br><font size=\"5\"><b>Set segmentation parameters<b></font>'),\n",
    "    ipw.VBox([\n",
    "    interactseg.maxtime,\n",
    "    interactseg.step,\n",
    "    interactseg.width_text,\n",
    "    interactseg.depth_text,\n",
    "    interactseg.run_button\n",
    "    ]),\n",
    "    \n",
    "    ipw.VBox([interactseg.time_slider, interactseg.intensity_range_slider,\n",
    "          interactseg.show_windows_choice, interactseg.show_text_choice,\n",
    "          interactseg.out]),\n",
    "    \n",
    "    ipw.HTML('<br><font size=\"5\"><b>Saving<b></font>'),\n",
    "    ipw.HTML('<font size=\"2\"><b>Select folder where to save<b></font>'),\n",
    "    interactseg.saving_folder.file_list,\n",
    "    interactseg.export_button\n",
    "    \n",
    "])"
   ]
  },
  {
   "cell_type": "code",
   "execution_count": null,
   "metadata": {},
   "outputs": [],
   "source": []
  }
 ],
 "metadata": {
  "kernelspec": {
   "display_name": "Python 3",
   "language": "python",
   "name": "python3"
  },
  "language_info": {
   "codemirror_mode": {
    "name": "ipython",
    "version": 3
   },
   "file_extension": ".py",
   "mimetype": "text/x-python",
   "name": "python",
   "nbconvert_exporter": "python",
   "pygments_lexer": "ipython3",
   "version": "3.8.2"
  }
 },
 "nbformat": 4,
 "nbformat_minor": 4
}
