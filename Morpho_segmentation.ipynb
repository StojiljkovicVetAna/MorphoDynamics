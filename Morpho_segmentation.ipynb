{
 "cells": [
  {
   "cell_type": "code",
   "execution_count": 1,
   "metadata": {},
   "outputs": [
    {
     "name": "stdout",
     "output_type": "stream",
     "text": [
      "Collecting package metadata (current_repodata.json): done\n",
      "Solving environment: done\n",
      "\n",
      "\n",
      "==> WARNING: A newer version of conda exists. <==\n",
      "  current version: 4.8.3\n",
      "  latest version: 4.8.4\n",
      "\n",
      "Please update conda by running\n",
      "\n",
      "    $ conda update -n base -c defaults conda\n",
      "\n",
      "\n",
      "\n",
      "## Package Plan ##\n",
      "\n",
      "  environment location: /home/gwitz/miniconda3/envs/morphodynamics\n",
      "\n",
      "  added / updated specs:\n",
      "    - python-graphviz\n",
      "\n",
      "\n",
      "The following packages will be downloaded:\n",
      "\n",
      "    package                    |            build\n",
      "    ---------------------------|-----------------\n",
      "    cairo-1.16.0               |    h3fc0475_1005         1.5 MB  conda-forge\n",
      "    fontconfig-2.13.1          |    h1056068_1002         365 KB  conda-forge\n",
      "    fribidi-1.0.10             |       h516909a_0         113 KB  conda-forge\n",
      "    graphite2-1.3.13           |    he1b5a44_1001         102 KB  conda-forge\n",
      "    graphviz-2.42.3            |       h0511662_0         6.9 MB  conda-forge\n",
      "    harfbuzz-2.7.1             |       hee91db6_0         1.8 MB  conda-forge\n",
      "    icu-67.1                   |       he1b5a44_0        12.9 MB  conda-forge\n",
      "    krb5-1.17.1                |       hfafb76e_2         1.5 MB  conda-forge\n",
      "    libclang-10.0.1            |default_hde54327_1        25.8 MB  conda-forge\n",
      "    libedit-3.1.20191231       |       he28a2e2_2         121 KB  conda-forge\n",
      "    libevent-2.1.10            |       hcdb4288_2         1.1 MB  conda-forge\n",
      "    libgcc-7.2.0               |       h69d50b8_2         304 KB  conda-forge\n",
      "    libpq-12.3                 |       h5513abc_0         2.6 MB  conda-forge\n",
      "    libtool-2.4.6              |    h516909a_1003         539 KB  conda-forge\n",
      "    libxml2-2.9.10             |       h68273f3_2         1.3 MB  conda-forge\n",
      "    mysql-common-8.0.21        |                0         1.5 MB  conda-forge\n",
      "    mysql-libs-8.0.21          |       hf3661c5_0         1.7 MB  conda-forge\n",
      "    nodejs-6.13.1              |                0        11.9 MB  conda-forge\n",
      "    pango-1.42.4               |       h7062337_4         521 KB  conda-forge\n",
      "    pixman-0.38.0              |    h516909a_1003         594 KB  conda-forge\n",
      "    python-graphviz-0.14.1     |     pyh9f0ad1d_0          19 KB  conda-forge\n",
      "    qt-5.12.5                  |       h7400415_4        99.1 MB  conda-forge\n",
      "    xorg-kbproto-1.0.7         |    h14c3975_1002          26 KB  conda-forge\n",
      "    xorg-libice-1.0.10         |       h516909a_0          57 KB  conda-forge\n",
      "    xorg-libsm-1.2.3           |    h84519dc_1000          25 KB  conda-forge\n",
      "    xorg-libx11-1.6.11         |       h516909a_0         920 KB  conda-forge\n",
      "    xorg-libxext-1.3.4         |       h516909a_0          51 KB  conda-forge\n",
      "    xorg-libxpm-3.5.13         |       h516909a_0          63 KB  conda-forge\n",
      "    xorg-libxrender-0.9.10     |    h516909a_1002          31 KB  conda-forge\n",
      "    xorg-libxt-1.1.5           |    h516909a_1003         367 KB  conda-forge\n",
      "    xorg-renderproto-0.11.1    |    h14c3975_1002           8 KB  conda-forge\n",
      "    xorg-xextproto-7.3.0       |    h14c3975_1002          27 KB  conda-forge\n",
      "    xorg-xproto-7.0.31         |    h14c3975_1007          72 KB  conda-forge\n",
      "    ------------------------------------------------------------\n",
      "                                           Total:       173.8 MB\n",
      "\n",
      "The following NEW packages will be INSTALLED:\n",
      "\n",
      "  cairo              conda-forge/linux-64::cairo-1.16.0-h3fc0475_1005\n",
      "  fribidi            conda-forge/linux-64::fribidi-1.0.10-h516909a_0\n",
      "  graphite2          conda-forge/linux-64::graphite2-1.3.13-he1b5a44_1001\n",
      "  graphviz           conda-forge/linux-64::graphviz-2.42.3-h0511662_0\n",
      "  harfbuzz           conda-forge/linux-64::harfbuzz-2.7.1-hee91db6_0\n",
      "  krb5               conda-forge/linux-64::krb5-1.17.1-hfafb76e_2\n",
      "  libedit            conda-forge/linux-64::libedit-3.1.20191231-he28a2e2_2\n",
      "  libevent           conda-forge/linux-64::libevent-2.1.10-hcdb4288_2\n",
      "  libgcc             conda-forge/linux-64::libgcc-7.2.0-h69d50b8_2\n",
      "  libpq              conda-forge/linux-64::libpq-12.3-h5513abc_0\n",
      "  libtool            conda-forge/linux-64::libtool-2.4.6-h516909a_1003\n",
      "  mysql-common       conda-forge/linux-64::mysql-common-8.0.21-0\n",
      "  mysql-libs         conda-forge/linux-64::mysql-libs-8.0.21-hf3661c5_0\n",
      "  pango              conda-forge/linux-64::pango-1.42.4-h7062337_4\n",
      "  pixman             conda-forge/linux-64::pixman-0.38.0-h516909a_1003\n",
      "  python-graphviz    conda-forge/noarch::python-graphviz-0.14.1-pyh9f0ad1d_0\n",
      "  xorg-kbproto       conda-forge/linux-64::xorg-kbproto-1.0.7-h14c3975_1002\n",
      "  xorg-libice        conda-forge/linux-64::xorg-libice-1.0.10-h516909a_0\n",
      "  xorg-libsm         conda-forge/linux-64::xorg-libsm-1.2.3-h84519dc_1000\n",
      "  xorg-libx11        conda-forge/linux-64::xorg-libx11-1.6.11-h516909a_0\n",
      "  xorg-libxext       conda-forge/linux-64::xorg-libxext-1.3.4-h516909a_0\n",
      "  xorg-libxpm        conda-forge/linux-64::xorg-libxpm-3.5.13-h516909a_0\n",
      "  xorg-libxrender    conda-forge/linux-64::xorg-libxrender-0.9.10-h516909a_1002\n",
      "  xorg-libxt         conda-forge/linux-64::xorg-libxt-1.1.5-h516909a_1003\n",
      "  xorg-renderproto   conda-forge/linux-64::xorg-renderproto-0.11.1-h14c3975_1002\n",
      "  xorg-xextproto     conda-forge/linux-64::xorg-xextproto-7.3.0-h14c3975_1002\n",
      "  xorg-xproto        conda-forge/linux-64::xorg-xproto-7.0.31-h14c3975_1007\n",
      "\n",
      "The following packages will be UPDATED:\n",
      "\n",
      "  fontconfig                           2.13.1-h86ecdb6_1001 --> 2.13.1-h1056068_1002\n",
      "  icu                                       64.2-he1b5a44_1 --> 67.1-he1b5a44_0\n",
      "  libclang                         9.0.1-default_hde54327_0 --> 10.0.1-default_hde54327_1\n",
      "  libxml2                                 2.9.10-hee79883_0 --> 2.9.10-h68273f3_2\n",
      "  qt                                      5.12.5-hd8c4c69_1 --> 5.12.5-h7400415_4\n",
      "\n",
      "The following packages will be DOWNGRADED:\n",
      "\n",
      "  nodejs                                 13.13.0-hf5d1a2b_0 --> 6.13.1-0\n",
      "\n",
      "\n",
      "\n",
      "Downloading and Extracting Packages\n",
      "xorg-kbproto-1.0.7   | 26 KB     | ##################################### | 100% \n",
      "krb5-1.17.1          | 1.5 MB    | ##################################### | 100% \n",
      "libclang-10.0.1      | 25.8 MB   | ##################################### | 100% \n",
      "mysql-libs-8.0.21    | 1.7 MB    | ##################################### | 100% \n",
      "xorg-libxext-1.3.4   | 51 KB     | ##################################### | 100% \n",
      "xorg-libxt-1.1.5     | 367 KB    | ##################################### | 100% \n",
      "libgcc-7.2.0         | 304 KB    | ##################################### | 100% \n",
      "nodejs-6.13.1        | 11.9 MB   | ##################################### | 100% \n",
      "libevent-2.1.10      | 1.1 MB    | ##################################### | 100% \n",
      "python-graphviz-0.14 | 19 KB     | ##################################### | 100% \n",
      "cairo-1.16.0         | 1.5 MB    | ##################################### | 100% \n",
      "xorg-libsm-1.2.3     | 25 KB     | ##################################### | 100% \n",
      "graphite2-1.3.13     | 102 KB    | ##################################### | 100% \n",
      "libxml2-2.9.10       | 1.3 MB    | ##################################### | 100% \n",
      "fontconfig-2.13.1    | 365 KB    | ##################################### | 100% \n",
      "mysql-common-8.0.21  | 1.5 MB    | ##################################### | 100% \n",
      "libtool-2.4.6        | 539 KB    | ##################################### | 100% \n",
      "harfbuzz-2.7.1       | 1.8 MB    | ##################################### | 100% \n",
      "icu-67.1             | 12.9 MB   | ##################################### | 100% \n",
      "xorg-libice-1.0.10   | 57 KB     | ##################################### | 100% \n",
      "pixman-0.38.0        | 594 KB    | ##################################### | 100% \n",
      "xorg-renderproto-0.1 | 8 KB      | ##################################### | 100% \n",
      "libedit-3.1.20191231 | 121 KB    | ##################################### | 100% \n",
      "qt-5.12.5            | 99.1 MB   | ##################################### | 100% \n",
      "xorg-libxrender-0.9. | 31 KB     | ##################################### | 100% \n",
      "xorg-xextproto-7.3.0 | 27 KB     | ##################################### | 100% \n",
      "pango-1.42.4         | 521 KB    | ##################################### | 100% \n",
      "xorg-xproto-7.0.31   | 72 KB     | ##################################### | 100% \n",
      "xorg-libx11-1.6.11   | 920 KB    | ##################################### | 100% \n",
      "graphviz-2.42.3      | 6.9 MB    | ##################################### | 100% \n",
      "libpq-12.3           | 2.6 MB    | ##################################### | 100% \n",
      "xorg-libxpm-3.5.13   | 63 KB     | ##################################### | 100% \n",
      "fribidi-1.0.10       | 113 KB    | ##################################### | 100% \n",
      "Preparing transaction: done\n",
      "Verifying transaction: done\n",
      "Executing transaction: done\n",
      "Requirement already satisfied: dask[complete] in /home/gwitz/miniconda3/envs/morphodynamics/lib/python3.8/site-packages (2.23.0)\n",
      "Requirement already satisfied: pyyaml in /home/gwitz/miniconda3/envs/morphodynamics/lib/python3.8/site-packages (from dask[complete]) (5.3.1)\n",
      "Collecting bokeh>=1.0.0; extra == \"complete\"\n",
      "  Downloading bokeh-2.1.1.tar.gz (19.3 MB)\n",
      "\u001b[K     |████████████████████████████████| 19.3 MB 4.8 MB/s eta 0:00:01\n",
      "\u001b[?25hCollecting fsspec>=0.6.0; extra == \"complete\"\n",
      "  Downloading fsspec-0.8.0-py3-none-any.whl (85 kB)\n",
      "\u001b[K     |████████████████████████████████| 85 kB 2.8 MB/s  eta 0:00:01\n",
      "\u001b[?25hRequirement already satisfied: cloudpickle>=0.2.2; extra == \"complete\" in /home/gwitz/miniconda3/envs/morphodynamics/lib/python3.8/site-packages (from dask[complete]) (1.5.0)\n",
      "Requirement already satisfied: distributed>=2.0; extra == \"complete\" in /home/gwitz/miniconda3/envs/morphodynamics/lib/python3.8/site-packages (from dask[complete]) (2.24.0)\n",
      "Collecting partd>=0.3.10; extra == \"complete\"\n",
      "  Downloading partd-1.1.0-py3-none-any.whl (19 kB)\n",
      "Requirement already satisfied: toolz>=0.8.2; extra == \"complete\" in /home/gwitz/miniconda3/envs/morphodynamics/lib/python3.8/site-packages (from dask[complete]) (0.10.0)\n",
      "Requirement already satisfied: pandas>=0.23.0; extra == \"complete\" in /home/gwitz/miniconda3/envs/morphodynamics/lib/python3.8/site-packages (from dask[complete]) (1.1.0)\n",
      "Requirement already satisfied: numpy>=1.13.0; extra == \"complete\" in /home/gwitz/miniconda3/envs/morphodynamics/lib/python3.8/site-packages (from dask[complete]) (1.19.1)\n",
      "Requirement already satisfied: python-dateutil>=2.1 in /home/gwitz/miniconda3/envs/morphodynamics/lib/python3.8/site-packages (from bokeh>=1.0.0; extra == \"complete\"->dask[complete]) (2.8.1)\n",
      "Requirement already satisfied: Jinja2>=2.7 in /home/gwitz/miniconda3/envs/morphodynamics/lib/python3.8/site-packages (from bokeh>=1.0.0; extra == \"complete\"->dask[complete]) (2.11.2)\n",
      "Requirement already satisfied: pillow>=4.0 in /home/gwitz/miniconda3/envs/morphodynamics/lib/python3.8/site-packages (from bokeh>=1.0.0; extra == \"complete\"->dask[complete]) (7.0.0)\n",
      "Requirement already satisfied: packaging>=16.8 in /home/gwitz/miniconda3/envs/morphodynamics/lib/python3.8/site-packages (from bokeh>=1.0.0; extra == \"complete\"->dask[complete]) (20.4)\n",
      "Requirement already satisfied: tornado>=5.1 in /home/gwitz/miniconda3/envs/morphodynamics/lib/python3.8/site-packages (from bokeh>=1.0.0; extra == \"complete\"->dask[complete]) (6.0.4)\n",
      "Collecting typing_extensions>=3.7.4\n",
      "  Downloading typing_extensions-3.7.4.3-py3-none-any.whl (22 kB)\n",
      "Requirement already satisfied: psutil>=5.0 in /home/gwitz/miniconda3/envs/morphodynamics/lib/python3.8/site-packages (from distributed>=2.0; extra == \"complete\"->dask[complete]) (5.7.2)\n",
      "Requirement already satisfied: click>=6.6 in /home/gwitz/miniconda3/envs/morphodynamics/lib/python3.8/site-packages (from distributed>=2.0; extra == \"complete\"->dask[complete]) (7.1.2)\n",
      "Requirement already satisfied: zict>=0.1.3 in /home/gwitz/miniconda3/envs/morphodynamics/lib/python3.8/site-packages (from distributed>=2.0; extra == \"complete\"->dask[complete]) (2.0.0)\n",
      "Requirement already satisfied: setuptools in /home/gwitz/miniconda3/envs/morphodynamics/lib/python3.8/site-packages (from distributed>=2.0; extra == \"complete\"->dask[complete]) (49.6.0.post20200814)\n",
      "Requirement already satisfied: sortedcontainers!=2.0.0,!=2.0.1 in /home/gwitz/miniconda3/envs/morphodynamics/lib/python3.8/site-packages (from distributed>=2.0; extra == \"complete\"->dask[complete]) (2.2.2)\n",
      "Requirement already satisfied: msgpack>=0.6.0 in /home/gwitz/miniconda3/envs/morphodynamics/lib/python3.8/site-packages (from distributed>=2.0; extra == \"complete\"->dask[complete]) (1.0.0)\n",
      "Requirement already satisfied: tblib>=1.6.0 in /home/gwitz/miniconda3/envs/morphodynamics/lib/python3.8/site-packages (from distributed>=2.0; extra == \"complete\"->dask[complete]) (1.7.0)\n",
      "Collecting locket\n",
      "  Downloading locket-0.2.0.tar.gz (3.5 kB)\n",
      "Requirement already satisfied: pytz>=2017.2 in /home/gwitz/miniconda3/envs/morphodynamics/lib/python3.8/site-packages (from pandas>=0.23.0; extra == \"complete\"->dask[complete]) (2020.1)\n",
      "Requirement already satisfied: six>=1.5 in /home/gwitz/miniconda3/envs/morphodynamics/lib/python3.8/site-packages (from python-dateutil>=2.1->bokeh>=1.0.0; extra == \"complete\"->dask[complete]) (1.15.0)\n",
      "Requirement already satisfied: MarkupSafe>=0.23 in /home/gwitz/miniconda3/envs/morphodynamics/lib/python3.8/site-packages (from Jinja2>=2.7->bokeh>=1.0.0; extra == \"complete\"->dask[complete]) (1.1.1)\n",
      "Requirement already satisfied: pyparsing>=2.0.2 in /home/gwitz/miniconda3/envs/morphodynamics/lib/python3.8/site-packages (from packaging>=16.8->bokeh>=1.0.0; extra == \"complete\"->dask[complete]) (2.4.7)\n",
      "Requirement already satisfied: heapdict in /home/gwitz/miniconda3/envs/morphodynamics/lib/python3.8/site-packages (from zict>=0.1.3->distributed>=2.0; extra == \"complete\"->dask[complete]) (1.0.1)\n",
      "Building wheels for collected packages: bokeh, locket\n",
      "  Building wheel for bokeh (setup.py) ... \u001b[?25ldone\n",
      "\u001b[?25h  Created wheel for bokeh: filename=bokeh-2.1.1-py3-none-any.whl size=9257187 sha256=2393e74744570a4ccd69502f452836755e23c14612862fcccf932c59aef50c99\n",
      "  Stored in directory: /home/gwitz/.cache/pip/wheels/6f/1b/bc/5add06a501c46e8aee615a089555beffdad8030aa5d6d35830\n",
      "  Building wheel for locket (setup.py) ... \u001b[?25ldone\n",
      "\u001b[?25h  Created wheel for locket: filename=locket-0.2.0-py3-none-any.whl size=4040 sha256=66af2aa4ee909f9f425dc3f5d96719d7d21683288f21d04b098737254d8fbe7b\n",
      "  Stored in directory: /home/gwitz/.cache/pip/wheels/78/25/55/fd7749af1f37730049bf1c0c0f4efd755c4ab1399f29578436\n",
      "Successfully built bokeh locket\n",
      "Installing collected packages: typing-extensions, bokeh, fsspec, locket, partd\n",
      "Successfully installed bokeh-2.1.1 fsspec-0.8.0 locket-0.2.0 partd-1.1.0 typing-extensions-3.7.4.3\n"
     ]
    }
   ],
   "source": [
    "!conda install -y -c conda-forge python-graphviz\n",
    "!pip install \"dask[complete]\""
   ]
  },
  {
   "cell_type": "code",
   "execution_count": 1,
   "metadata": {},
   "outputs": [],
   "source": [
    "#%load_ext autoreload\n",
    "#%autoreload 2\n",
    "#import warnings\n",
    "#warnings.filterwarnings(\"ignore\")\n",
    "\n",
    "\n",
    "%matplotlib widget\n",
    "\n",
    "from morphodynamics.morpho_segmentation import InteractSeg\n",
    "import ipywidgets as ipw"
   ]
  },
  {
   "cell_type": "code",
   "execution_count": 2,
   "metadata": {},
   "outputs": [],
   "source": [
    "#from dask.distributed import Client\n",
    "#client = Client()\n",
    "from dask_jobqueue import SLURMCluster\n",
    "from dask.distributed import Client"
   ]
  },
  {
   "cell_type": "code",
   "execution_count": 3,
   "metadata": {},
   "outputs": [],
   "source": [
    "#!conda install -y dask-jobqueue -c conda-forge"
   ]
  },
  {
   "cell_type": "code",
   "execution_count": 3,
   "metadata": {},
   "outputs": [],
   "source": [
    "cluster = SLURMCluster(\n",
    "    cores=1,\n",
    "    memory=\"1 GB\"\n",
    ")"
   ]
  },
  {
   "cell_type": "code",
   "execution_count": 4,
   "metadata": {},
   "outputs": [
    {
     "name": "stdout",
     "output_type": "stream",
     "text": [
      "#!/usr/bin/env bash\n",
      "\n",
      "#SBATCH -J dask-worker\n",
      "#SBATCH -n 1\n",
      "#SBATCH --cpus-per-task=1\n",
      "#SBATCH --mem=954M\n",
      "#SBATCH -t 00:30:00\n",
      "\n",
      "/home/gwitz/miniconda3/envs/morphodynamics/bin/python -m distributed.cli.dask_worker tcp://130.92.82.93:43821 --nthreads 1 --memory-limit 1000.00MB --name name --nanny --death-timeout 60\n",
      "\n"
     ]
    }
   ],
   "source": [
    "print(cluster.job_script())\n"
   ]
  },
  {
   "cell_type": "code",
   "execution_count": 3,
   "metadata": {},
   "outputs": [],
   "source": [
    "truc = 'machin'\n",
    "truc3 = 'object'"
   ]
  },
  {
   "cell_type": "code",
   "execution_count": 7,
   "metadata": {},
   "outputs": [],
   "source": [
    "truc2 = 'machin'"
   ]
  },
  {
   "cell_type": "code",
   "execution_count": 8,
   "metadata": {},
   "outputs": [
    {
     "data": {
      "text/plain": [
       "True"
      ]
     },
     "execution_count": 8,
     "metadata": {},
     "output_type": "execute_result"
    }
   ],
   "source": [
    "truc2 == truc3 or truc2 == truc"
   ]
  },
  {
   "cell_type": "code",
   "execution_count": 5,
   "metadata": {},
   "outputs": [],
   "source": [
    "from dask.distributed import Client\n",
    "client = Client(cluster)"
   ]
  },
  {
   "cell_type": "code",
   "execution_count": 6,
   "metadata": {},
   "outputs": [
    {
     "data": {
      "application/vnd.jupyter.widget-view+json": {
       "model_id": "c675fc0fe82e40cd8d0b0d0758090485",
       "version_major": 2,
       "version_minor": 0
      },
      "text/plain": [
       "VBox(children=(HTML(value='<h2>SLURMCluster</h2>'), HBox(children=(HTML(value='\\n<div>\\n  <style scoped>\\n    …"
      ]
     },
     "metadata": {},
     "output_type": "display_data"
    }
   ],
   "source": [
    "client.cluster"
   ]
  },
  {
   "cell_type": "markdown",
   "metadata": {},
   "source": [
    "## Define a default folder\n",
    "You can define a path to a folder containing your data to avoid repeatedly browsing to it."
   ]
  },
  {
   "cell_type": "code",
   "execution_count": 7,
   "metadata": {},
   "outputs": [],
   "source": [
    "default_path = None\n",
    "#default_path = '/Volumes/Samsung_T5/Kobus/' # Guillaume\n",
    "#default_path = r'C:\\Work\\UniBE2\\Data\\\\' # Cedric\n",
    "#default_path = '/Users/kobuspro/Documents/General Files/PERTZ_position/MY_DATA' # Kobus"
   ]
  },
  {
   "cell_type": "code",
   "execution_count": 8,
   "metadata": {
    "scrolled": false
   },
   "outputs": [
    {
     "data": {
      "application/vnd.jupyter.widget-view+json": {
       "model_id": "c368a46cbe704247ba0004aea9f3fb0d",
       "version_major": 2,
       "version_minor": 0
      },
      "text/plain": [
       "VBox(children=(HTML(value='<font size=\"5\"><b>Choose main folder<b></font>'), HTML(value='<font size=\"2\"><b>Thi…"
      ]
     },
     "metadata": {},
     "output_type": "display_data"
    }
   ],
   "source": [
    "# create interface\n",
    "interactseg = InteractSeg(expdir=default_path)\n",
    "interactseg.ui()\n",
    "interactseg.interface"
   ]
  },
  {
   "cell_type": "markdown",
   "metadata": {},
   "source": [
    "## Debugging corner - No trespassing"
   ]
  },
  {
   "cell_type": "markdown",
   "metadata": {},
   "source": [
    "For details, see: https://medium.com/@marc.wouts/debug-jupyter-notebooks-with-pycharm-91004080fbd5"
   ]
  },
  {
   "cell_type": "code",
   "execution_count": 4,
   "metadata": {},
   "outputs": [
    {
     "data": {
      "text/plain": [
       "'C:\\\\Users\\\\vonesch\\\\Anaconda3\\\\envs\\\\morphodynamics\\\\python.exe'"
      ]
     },
     "execution_count": 4,
     "metadata": {},
     "output_type": "execute_result"
    }
   ],
   "source": [
    "import sys\n",
    "sys.executable"
   ]
  },
  {
   "cell_type": "code",
   "execution_count": 1,
   "metadata": {},
   "outputs": [
    {
     "name": "stdout",
     "output_type": "stream",
     "text": [
      "{\n",
      "  \"shell_port\": 52072,\n",
      "  \"iopub_port\": 52073,\n",
      "  \"stdin_port\": 52074,\n",
      "  \"control_port\": 52076,\n",
      "  \"hb_port\": 52075,\n",
      "  \"ip\": \"127.0.0.1\",\n",
      "  \"key\": \"0fe48126-4633d6bd1c384012ec7812f8\",\n",
      "  \"transport\": \"tcp\",\n",
      "  \"signature_scheme\": \"hmac-sha256\",\n",
      "  \"kernel_name\": \"\"\n",
      "}\n",
      "\n",
      "Paste the above JSON into a file, and connect with:\n",
      "    $> jupyter <app> --existing <file>\n",
      "or, if you are local, you can connect with just:\n",
      "    $> jupyter <app> --existing kernel-b300f17b-23e2-4cb5-8de5-0b35364f3f1d.json\n",
      "or even just:\n",
      "    $> jupyter <app> --existing\n",
      "if this is the most recent Jupyter kernel you have started.\n"
     ]
    }
   ],
   "source": [
    "%connect_info"
   ]
  },
  {
   "cell_type": "code",
   "execution_count": null,
   "metadata": {},
   "outputs": [],
   "source": []
  }
 ],
 "metadata": {
  "kernelspec": {
   "display_name": "Python 3",
   "language": "python",
   "name": "python3"
  },
  "language_info": {
   "codemirror_mode": {
    "name": "ipython",
    "version": 3
   },
   "file_extension": ".py",
   "mimetype": "text/x-python",
   "name": "python",
   "nbconvert_exporter": "python",
   "pygments_lexer": "ipython3",
   "version": "3.8.4"
  },
  "toc": {
   "base_numbering": 1,
   "nav_menu": {},
   "number_sections": false,
   "sideBar": true,
   "skip_h1_title": false,
   "title_cell": "Table of Contents",
   "title_sidebar": "Contents",
   "toc_cell": false,
   "toc_position": {},
   "toc_section_display": true,
   "toc_window_display": true
  },
  "varInspector": {
   "cols": {
    "lenName": 16,
    "lenType": 16,
    "lenVar": 40
   },
   "kernels_config": {
    "python": {
     "delete_cmd_postfix": "",
     "delete_cmd_prefix": "del ",
     "library": "var_list.py",
     "varRefreshCmd": "print(var_dic_list())"
    },
    "r": {
     "delete_cmd_postfix": ") ",
     "delete_cmd_prefix": "rm(",
     "library": "var_list.r",
     "varRefreshCmd": "cat(var_dic_list()) "
    }
   },
   "types_to_exclude": [
    "module",
    "function",
    "builtin_function_or_method",
    "instance",
    "_Feature"
   ],
   "window_display": false
  }
 },
 "nbformat": 4,
 "nbformat_minor": 4
}
